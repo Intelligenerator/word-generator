{
 "cells": [
  {
   "cell_type": "markdown",
   "metadata": {},
   "source": [
    "# Markov Word Generator"
   ]
  },
  {
   "cell_type": "markdown",
   "metadata": {},
   "source": [
    "Generate new words based on words from an input file. Uses markov chains to generate new words.\n",
    "Check out [wikipedia](https://en.wikipedia.org/wiki/Markov_chain) for more information."
   ]
  },
  {
   "cell_type": "code",
   "execution_count": 1,
   "metadata": {},
   "outputs": [],
   "source": [
    "from collections import defaultdict\n",
    "from random import choice"
   ]
  },
  {
   "cell_type": "markdown",
   "metadata": {},
   "source": [
    "Specify basic configuration.\n",
    "* `END` specifies special end character to mark word-endings.\n",
    "* `NGRAM_SIZE` specifies the size of character groupings that are taken into account.\n",
    "\n",
    "Tweak the `NGRAM_SIZE` variable to change results. A lower number results in more gibberish, a higher number represents the input wordlist more closely.\n",
    "A `NGRAM_SIZE` of `3` will split `hello world` into following ngrams:\n",
    "\n",
    "`hel`, `ell`, `llo`, `lo `, `o w`, ` wo`, `wor`, `orl`, `rld`."
   ]
  },
  {
   "cell_type": "code",
   "execution_count": 2,
   "metadata": {},
   "outputs": [],
   "source": [
    "END = \"|\"\n",
    "NGRAM_SIZE = 2"
   ]
  },
  {
   "cell_type": "markdown",
   "metadata": {},
   "source": [
    "The `markov` dictionary will store all ngrams found in the word list as dict keys. All the characters following a certain ngram will be stored in a list associated with this `ngram`.\n",
    "\n",
    "When creating a new word, a random element from the list of possible next characters will be chosen. This leads to words resembling those in the input list, but having slight variations."
   ]
  },
  {
   "cell_type": "code",
   "execution_count": 3,
   "metadata": {},
   "outputs": [],
   "source": [
    "markov = defaultdict(list)\n",
    "beginnings = list()"
   ]
  },
  {
   "cell_type": "markdown",
   "metadata": {},
   "source": [
    "The `ngrams` function will split a word into ngrams and add every ngram and the following character to the `markov` dict."
   ]
  },
  {
   "cell_type": "code",
   "execution_count": 4,
   "metadata": {},
   "outputs": [],
   "source": [
    "def ngrams(line: str) -> None:\n",
    "    line = list(line)\n",
    "    line.append(END)\n",
    "    i = 0\n",
    "\n",
    "    for i in range(len(line) - NGRAM_SIZE):\n",
    "        gram = \"\".join(line[i:i+NGRAM_SIZE])\n",
    "        following = line[i+NGRAM_SIZE]\n",
    "\n",
    "        if i == 0:\n",
    "            beginnings.append(gram)\n",
    "\n",
    "        markov[gram].append(following)"
   ]
  },
  {
   "cell_type": "markdown",
   "metadata": {},
   "source": [
    "The `ngrams_from_file` function will take a path to a word file, read it and pass every line to the `ngrams` function."
   ]
  },
  {
   "cell_type": "code",
   "execution_count": 5,
   "metadata": {},
   "outputs": [],
   "source": [
    "def ngrams_from_file(path: str) -> None:\n",
    "    with open(path) as f:\n",
    "        for line in f.readlines():\n",
    "            ngrams(line.strip())"
   ]
  },
  {
   "cell_type": "markdown",
   "metadata": {},
   "source": [
    "The `generate` function will pick a random ngram from the beginnings list. Then it will generate new words, by choosing a random next character from the current ngram. This new next character will then form the next ngram and so on until the `END` character is found."
   ]
  },
  {
   "cell_type": "code",
   "execution_count": 6,
   "metadata": {},
   "outputs": [],
   "source": [
    "def generate(start: str = None) -> str:\n",
    "    if start is None:\n",
    "        start = choice(beginnings)\n",
    "\n",
    "    result = start\n",
    "    while True:\n",
    "        gram = result[-NGRAM_SIZE:]\n",
    "        choices = markov[gram]\n",
    "\n",
    "        following = choice(choices)\n",
    "\n",
    "        if following == \"|\":\n",
    "            break\n",
    "\n",
    "        result += following\n",
    "\n",
    "    return result"
   ]
  },
  {
   "cell_type": "markdown",
   "metadata": {},
   "source": [
    "Read the example wordlist"
   ]
  },
  {
   "cell_type": "code",
   "execution_count": 7,
   "metadata": {},
   "outputs": [],
   "source": [
    "ngrams_from_file(\"ai-wordlist\")"
   ]
  },
  {
   "cell_type": "markdown",
   "metadata": {},
   "source": [
    "Generate 10 random words"
   ]
  },
  {
   "cell_type": "code",
   "execution_count": 10,
   "metadata": {},
   "outputs": [
    {
     "name": "stdout",
     "output_type": "stream",
     "text": [
      "ing\n",
      "neurang gensfiligence sous aindapsuperegral matescial con\n",
      "matual con systating con matis stion\n",
      "funing\n",
      "autanter\n",
      "arlds cal bagendse\n",
      "raveris arm int cal rininalgoripletworks\n",
      "matabayes\n",
      "sturehave systationationd ne cogral learninition\n",
      "optrue knomots\n"
     ]
    }
   ],
   "source": [
    "for i in range(10):\n",
    "    print(generate())"
   ]
  }
 ],
 "metadata": {
  "kernelspec": {
   "display_name": "Python 3",
   "language": "python",
   "name": "python3"
  },
  "language_info": {
   "codemirror_mode": {
    "name": "ipython",
    "version": 3
   },
   "file_extension": ".py",
   "mimetype": "text/x-python",
   "name": "python",
   "nbconvert_exporter": "python",
   "pygments_lexer": "ipython3",
   "version": "3.7.7"
  }
 },
 "nbformat": 4,
 "nbformat_minor": 4
}
